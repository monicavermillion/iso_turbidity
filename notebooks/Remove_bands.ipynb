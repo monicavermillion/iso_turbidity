{
 "cells": [
  {
   "cell_type": "markdown",
   "metadata": {},
   "source": [
    "## Script to Subset ENVI image files and save them as inputs to ISOFIT "
   ]
  },
  {
   "cell_type": "code",
   "execution_count": 2,
   "metadata": {},
   "outputs": [],
   "source": [
    "from spectral.io import envi \n",
    "import numpy as np"
   ]
  },
  {
   "cell_type": "code",
   "execution_count": 3,
   "metadata": {},
   "outputs": [],
   "source": [
    "rd29 =  envi.open('../prm20140428/L1B/prm20140428t225529_rdn_v1c/prm20140428t225529_rdn_v1c_img.hdr')\n",
    "rd25 = envi.open('../prm20140428/L1B/prm20140428t232525_rdn_v1c/prm20140428t232525_rdn_v1c_img.hdr')\n",
    "rd950 = envi.open('../prm20140428/L1B/prm20140428t230950_rdn_v1c/prm20140428t230950_rdn_v1c_img.hdr')\n",
    "# Clip the data \n",
    "#rd_clip = rd29[:,:,4:246]\n",
    "# Clip and subset the image \n",
    "rd_clip = rd950[:,:,4:246]"
   ]
  },
  {
   "cell_type": "code",
   "execution_count": 6,
   "metadata": {},
   "outputs": [
    {
     "name": "stdout",
     "output_type": "stream",
     "text": [
      "(4944, 721, 242)\n"
     ]
    }
   ],
   "source": [
    "print(rd_clip.shape)\n",
    "n_line = rd_clip.shape[0]\n",
    "n_samples = rd_clip.shape[1]\n",
    "n_bands = rd_clip.shape[2]\n",
    "wl = np.loadtxt('../wavelength/PRISM_micorns_wavelength.txt')\n",
    "wave = wl[4:246,1]\n",
    "fwhm = wl[4:246,2]\n",
    "map_info = {'UTM', 1.000, 1.000, 590514.253, 4223312.232, 2.6000000000e+00, 2.6000000000e+00, 10,'North', 'WGS-84', 'Meters', -75.00000000}\n",
    "\n",
    "# Create the metadata \n",
    "meta = {'lines': n_line, 'samples': n_samples, 'bands': n_bands,\n",
    "                        'byte order': 0, 'header offset': 0, 'map info': map_info,\n",
    "                        'file_type': 'ENVI Standard', 'sensor type': 'unknown',\n",
    "                        'interleave': 'bil', 'data type': 4,\n",
    "                        'wavelength units': 'nm', 'fwhm': fwhm,\n",
    "                        'wavelength': wave}"
   ]
  },
  {
   "cell_type": "code",
   "execution_count": 7,
   "metadata": {},
   "outputs": [
    {
     "name": "stdout",
     "output_type": "stream",
     "text": [
      "Saving C:\\Users\\monicalv\\Documents\\PRISM\\prm20140428\\L1B\\prm20140428t230950_rdn_v1c\\prm20140428t230950_rdn_clip\n"
     ]
    }
   ],
   "source": [
    "# Save new clipped image  \n",
    "envi.create_image('../prm20140428/L1B/prm20140428t230950_rdn_v1c/prm20140428t230950_rdn_clip.hdr',meta,force = True)\n",
    "envi.save_image('../prm20140428/L1B/prm20140428t230950_rdn_v1c/prm20140428t230950_rdn_clip.hdr',rd_clip,ext='',force=True)"
   ]
  },
  {
   "cell_type": "code",
   "execution_count": null,
   "metadata": {},
   "outputs": [],
   "source": [
    "## Try and apply a mask to the image: \n",
    "\n"
   ]
  }
 ],
 "metadata": {
  "kernelspec": {
   "display_name": "Python 3",
   "language": "python",
   "name": "python3"
  },
  "language_info": {
   "codemirror_mode": {
    "name": "ipython",
    "version": 3
   },
   "file_extension": ".py",
   "mimetype": "text/x-python",
   "name": "python",
   "nbconvert_exporter": "python",
   "pygments_lexer": "ipython3",
   "version": "3.7.3"
  }
 },
 "nbformat": 4,
 "nbformat_minor": 2
}
